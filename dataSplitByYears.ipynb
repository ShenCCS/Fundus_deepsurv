{
 "cells": [
  {
   "cell_type": "markdown",
   "metadata": {},
   "source": [
    "# 按照年份分檔"
   ]
  },
  {
   "cell_type": "code",
   "execution_count": 1,
   "metadata": {},
   "outputs": [],
   "source": [
    "import os\n",
    "import re\n",
    "import cv2"
   ]
  },
  {
   "cell_type": "code",
   "execution_count": 2,
   "metadata": {},
   "outputs": [],
   "source": [
    "input_directory = '/home/john/network/RETFound/data/ROI/'\n",
    "output_directory ='/home/john/network/RETFound/data/dataSplitByYears/'"
   ]
  },
  {
   "cell_type": "code",
   "execution_count": 3,
   "metadata": {},
   "outputs": [
    {
     "name": "stdout",
     "output_type": "stream",
     "text": [
      "Done\n"
     ]
    }
   ],
   "source": [
    "os.makedirs(output_directory, exist_ok=True)\n",
    "\n",
    "format = re.compile(r'(\\d+)-(\\d+)-(L|R)-(\\d+).jpg')\n",
    "\n",
    "\n",
    "for filename in os.listdir(input_directory):\n",
    "    if filename.endswith(('.jpg', '.jpeg', '.png')):  # Check image is JPG or JPEG or PNG\n",
    "        match = format.search(filename)\n",
    "\n",
    "        if match:\n",
    "            input_path = os.path.join(input_directory, filename)\n",
    "\n",
    "            # Loading image\n",
    "            image = cv2.imread(input_path)\n",
    "\n",
    "            group_id = match.group(1)\n",
    "            date = match.group(4)\n",
    "            # print(type(date)) # str\n",
    "            years = date[0:4]\n",
    "\n",
    "        resolution_folder = os.path.join(output_directory, years)\n",
    "        os.makedirs(resolution_folder, exist_ok=True)\n",
    "\n",
    "        # Copy images to different file\n",
    "        output_path = os.path.join(resolution_folder, filename)\n",
    "        cv2.imwrite(output_path, image)\n",
    "\n",
    "print(\"Done\")"
   ]
  }
 ],
 "metadata": {
  "kernelspec": {
   "display_name": "Python 3.9.0 ('gpu')",
   "language": "python",
   "name": "python3"
  },
  "language_info": {
   "codemirror_mode": {
    "name": "ipython",
    "version": 3
   },
   "file_extension": ".py",
   "mimetype": "text/x-python",
   "name": "python",
   "nbconvert_exporter": "python",
   "pygments_lexer": "ipython3",
   "version": "3.9.0"
  },
  "orig_nbformat": 4,
  "vscode": {
   "interpreter": {
    "hash": "c552620d222fa9d606f1f33f8563cdc33bfd942962e64ac4e17319b8faf72790"
   }
  }
 },
 "nbformat": 4,
 "nbformat_minor": 2
}
